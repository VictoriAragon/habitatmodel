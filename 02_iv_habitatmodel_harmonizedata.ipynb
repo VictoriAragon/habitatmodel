{
 "cells": [
  {
   "cell_type": "markdown",
   "metadata": {},
   "source": [
    "This notebook will harmonize the 3 data variables (soil ph, elevation and cliamte) and harmonize the data in order to prep for the fuzzy logic model. \n",
    "\n",
    "This notebook is incomplete and the code is non-working"
   ]
  }
 ],
 "metadata": {
  "language_info": {
   "name": "python"
  }
 },
 "nbformat": 4,
 "nbformat_minor": 2
}
