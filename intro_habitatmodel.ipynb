{
 "cells": [
  {
   "cell_type": "markdown",
   "metadata": {},
   "source": [
    "This project tests a model on two grasslands areas in the United States"
   ]
  },
  {
   "cell_type": "markdown",
   "metadata": {},
   "source": [
    "WORKFLOW"
   ]
  },
  {
   "cell_type": "markdown",
   "metadata": {},
   "source": [
    "1. Define your study area: If you are using Sorghastrum nutans, you can download the USFS National Grassland Units and select at least 2 as study sites.\n",
    "    \n",
    "    \n",
    "    Kiowa National Grassland\n",
    "\n",
    "    Kiowa National Grassland is a National Grassland, located in northeastern New Mexico. The southwestern Great Plains grassland includes prairie and part of the Canadian River Canyon. \n",
    "\n",
    "    It is located in two non-adjacent units of northeastern New Mexico. The western unit is located in northwestern Harding, eastern Mora, and southeastern Colfax counties. The smaller eastern unit is located in eastern Union County, on the border with Oklahoma and Texas. The grassland has a total area of 137,131 acres (55,495 ha).\n",
    "\n",
    "    The grassland is administered by the U.S. Forest Service together with the Cibola National Forest and the Black Kettle, McClellan Creek, and Rita Blanca National Grasslands, from common headquarters located in Albuquerque, New Mexico.[3] There are local ranger district offices located in Clayton.\n",
    "\n",
    "    Both units of the National Grassland consist of a patchwork quilt of public land interspaced with private land. Elevations on the Grassland range from 4,500 to 6,300 feet (1,400 to 1,900 m) which is high enough to moderate somewhat the summer temperatures of the Great Plains.[5] The average high and low temperatures for Clayton in July are 87 °F (31 °C) and 60 °F (16 °C) and January highs and lows are 47 °F (8 °C) and 20 °F (−7 °C). Annual precipitation is about 15 inches (380 mm) throughout the Grassland with July and August the wettest months and January and February the driest.\n",
    "    \n",
    "    Semi-arid steppe grassland (shortgrass prairie) is the most common vegetation, covering 79 percent of the Grassland (including the adjacent Rita Blanca National Grassland). Ten percent of the land is covered with Pinyon – Juniper woodland, almost entirely in the western sector. A few stands of Ponderosa Pine are found in the Canadian River Canyon in the western sector. Nine percent of vegetative cover is Sand Sagebrush and one percent is Cottonwood and Willow riparian forest. The Canadian River is the only permanent stream. Playa lakes (shallow lakes which hold rainwater part of the year) are commonly found.\n",
    "\n",
    "    source: https://en.wikipedia.org/wiki/Kiowa_National_Grassland#See_also\n",
    "\n",
    "    Pawnee National Grassland\n",
    "\n",
    "    Pawnee National Grassland is a United States National Grassland located in northeastern Colorado on the Colorado Eastern Plains. The grassland is located in the South Platte River basin in remote northern and extreme northeastern Weld County between Greeley and Sterling. It comprises two parcels totaling 193,060 acres (78,130 ha) largely between State Highway 14 and the Wyoming border. The larger eastern parcel lies adjacent to the borders of both Nebraska and Wyoming. It is administered in conjunction with the Arapaho-Roosevelt National Forest from the U.S. Forest Service office in Fort Collins, with a local ranger district office in Greeley.\n",
    "\n",
    "    The grassland is in an especially depopulated area of the Great Plains. It saw limited cultivation in the early 20th century but was withdrawn from farming after the Dust Bowl. The communities of Keota and Purcell are located within the grassland. The town of Grover is located directly between the two large parcels of the grasslands near Crow Creek. Briggsdale sits at the southern end where State Highway 14 and State Highway 392 meet. State Highway 71 traverses the eastern unit north of Stoneham. The eastern unit is drained by Pawnee Creek, a tributary of the South Platte. The western unit is largely drained by Crow Creek. \n",
    "\n",
    "    The grasslands is a joining of two soil types. In the east are prairie soils that are deep, and dark or reddish. From the west are chernozems of a chestnut, becoming brown. The chestnut soils are the dominant type across the areas. These soils develop in semiarid climates with 15 to 20 inches (38 to 51 cm) of rain annually. They are associated with buffalo grass and blue grama. Around the buttes, the soils are most likely brown soils which are characteristic of cool, semiarid condition and are evidenced by short grasses and shrubs.\n",
    "\n",
    "    Water is available from a Cretaceous period aquifer. Three springs are in the vicinity of the buttes: Nelson Ranch 1 mile (1.6 km) north, old Linglebach Homestead 1 mile (1.6 km) south, and an arroyo 0.51 miles (0.8 km) west. The main access to the aquifer is by windmill pumps. The aquifer is recharged from the west and flows eastward. There are Tertiary and Quaternary aquifers which are recharged by precipitation and seepage from streams. The Brule Formation, where available provides a large quantity of water.\n",
    "\n",
    "    The grassland is a part of the short grass plains of North America. The best example of this ecosystem are preserved around the Pawnee Buttes where grazing and intensive agriculture have had less impact. There are eleven vegetation zones represented with the most unique being the scarp woodlands on the north face of the buttes. Typical of higher elevations, there are limber pines and relicts of an ice-age forest.\n",
    "\n",
    "    source: https://en.wikipedia.org/wiki/Pawnee_National_Grassland\n",
    "    \n",
    "\n",
    "    National Grassland Data Download source: \n",
    "\n",
    "        \"https://data.fs.usda.gov/geodata/edw/edw_resources/shp/S_USA.NationalGrassland.zip\"\n",
    "\n",
    "    U.S. States and Counties boundaries source: \n",
    "\n",
    "        https://www.census.gov/geographies/mapping-files/time-series/geo/carto-boundary-file.html\n",
    "\n",
    "    Sorghastrum nutans, \n",
    "\n",
    "        also known as Indiangrass, can grow roots that are up to two meters (seven feet) deep. The roots of this warm-season grass are a key part of its ability to survive in a variety of conditions, including drought, salt, and different types of soil. \n",
    "\n",
    "        source: https://www.nrcs.usda.gov/plantmaterials/etpmcpg13196.pdf"
   ]
  },
  {
   "cell_type": "markdown",
   "metadata": {},
   "source": [
    "2. Fit a model: For each grassland:\n",
    "\n",
    "    i. Download model variables as raster layers covering your study area envelope, including:\n",
    "        -At least one soil variable from the POLARIS dataset\n",
    "        -Elevation from the SRTM (available from the earthaccess API)\n",
    "        -At least one climate variable from the MACAv2 THREDDS data server. Your project should compare two climate scenarios of your choice (e.g. different time periods, different emission scenarios). You can find a tutorial on how to access these climate data on earthdatascience.org\n",
    "\n",
    " -from soil readme: \n",
    "\n",
    "    #Variable - Description,Units\n",
    "\n",
    "        ph - soil pH in H2O, N/A\n",
    "\n",
    "    #Depth from surface\n",
    "        (Sorghastrum nutans roots grow 7ft depth. 7ft = 213.36cm)\n",
    "          \n",
    "        data property: 100-200 cm\n",
    "\n",
    "    #Statistics provided per layer and variable:\n",
    "        \n",
    "        data mean - Arithmetic mean\n",
    "\n",
    "\n",
    "    #Resolutions\n",
    "\n",
    "        1 arcsec (~30 meters)\n",
    "\n",
    "    #Notes\n",
    "        *05/01/2019 - The variables hb, alpha, ksat, om are in log10 space. \n",
    "        *05/01/2019 - Due to file size constraints, the 1 arcsec database is split into 1x1 degree tiffs. Each variable/layer/statistic has its own virtual raster that acts as the \"glue\" of all the smaller 1x1 degree chunks. For more information on virtual rasters see https://www.gdal.org/gdal_vrttut.html. \n",
    "        *06/02/2019 - The variables hb and alpha were originally reported to have the units of log10(cm) and log10(cm-1) respectively. This was a typo. The correct units are log10(kPa) and log10(kPa-1) respectively. \n",
    "\n"
   ]
  }
 ],
 "metadata": {
  "language_info": {
   "name": "python"
  }
 },
 "nbformat": 4,
 "nbformat_minor": 2
}
