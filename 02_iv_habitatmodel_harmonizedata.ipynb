{
 "cells": [
  {
   "cell_type": "markdown",
   "metadata": {},
   "source": [
    "This notebook will harmonize the 3 data variables (soil ph, elevation and cliamte) and harmonize the data in order to prep for the fuzzy logic model. \n",
    "\n",
    "This notebook is incomplete and the code is non-working"
   ]
  },
  {
   "cell_type": "markdown",
   "metadata": {},
   "source": [
    " 1: bring in stored variables\n",
    "\n",
    " 2: Import all python libraries needed\n",
    "\n",
    " 3: load all clipped data variables and plot to make sure they are projected\n",
    "\n",
    " 4: Normalize the data to 0-5 value scale\n",
    "\n",
    " 5: Harmonize by combining the normalized values\n",
    "\n",
    " 6: Plot the results\n",
    "\n",
    " 7: store variables and gdf"
   ]
  },
  {
   "cell_type": "code",
   "execution_count": null,
   "metadata": {
    "vscode": {
     "languageId": "plaintext"
    }
   },
   "outputs": [],
   "source": [
    "# 1: bring in stored variables\n",
    "\n",
    "#store the data\n",
    "%store -r"
   ]
  },
  {
   "cell_type": "code",
   "execution_count": null,
   "metadata": {
    "vscode": {
     "languageId": "plaintext"
    }
   },
   "outputs": [],
   "source": [
    "# 2: Import all python libraries needed\n",
    "\n",
    "\n",
    "import pandas as pd\n",
    "import geopandas as gpd\n",
    "import numpy as np\n",
    "import matplotlib.pyplot as plt\n",
    "import os\n",
    "import requests\n",
    "import zipfile\n",
    "import rasterio\n",
    "from rasterio.plot import show\n",
    "import rioxarray\n",
    "import xarray-spatial"
   ]
  },
  {
   "cell_type": "code",
   "execution_count": null,
   "metadata": {
    "vscode": {
     "languageId": "plaintext"
    }
   },
   "outputs": [],
   "source": [
    "# 3: load all clipped data variables and plot to make sure they are projected\n",
    "\n",
    "#used chat chatgpd for this code\n",
    "\n",
    "#loading my variables\n",
    "Soil ph = gpd.read_file(\"Soil ph.shp\") \n",
    "elevation = gpd.read_file(\"elevation.shp\")\n",
    "climate = gpd.read_file(\"climate.shp\")\n",
    "\n",
    "\n",
    "# Plot Soil ph\n",
    "ax = axs[0]\n",
    "var1_clipped.plot(column=\"value\", ax=ax, legend=True, cmap=\"viridis\")\n",
    "ax.set_title(\"Variable 1\")\n",
    "ax.set_xlabel(\"Longitude\")\n",
    "ax.set_ylabel(\"Latitude\")\n",
    "\n",
    "# Plot elevation\n",
    "ax = axs[1]\n",
    "var2_clipped.plot(column=\"value\", ax=ax, legend=True, cmap=\"plasma\")\n",
    "ax.set_title(\"elevation \")\n",
    "ax.set_xlabel(\"Longitude\")\n",
    "ax.set_ylabel(\"Latitude\")\n",
    "\n",
    "# Plot climate\n",
    "ax = axs[2]\n",
    "var3_clipped.plot(column=\"value\", ax=ax, legend=True, cmap=\"inferno\")\n",
    "ax.set_title(\"climate\")\n",
    "ax.set_xlabel(\"Longitude\")\n",
    "ax.set_ylabel(\"Latitude\")\n",
    "\n",
    "# Plot the project boundary on top\n",
    "for ax in axs:\n",
    "    grassland_boundary.plot(ax=ax, facecolor=\"none\", edgecolor=\"black\", linewidth=2)\n",
    "\n",
    "# Display the plots\n",
    "plt.tight_layout()\n",
    "plt.show()"
   ]
  },
  {
   "cell_type": "code",
   "execution_count": null,
   "metadata": {
    "vscode": {
     "languageId": "plaintext"
    }
   },
   "outputs": [],
   "source": [
    "# 4: Normalize the data to 0-5 value scale\n",
    "\n",
    "#used chat chatgpd for this code\n",
    "\n",
    "def normalize(data, column):\n",
    "    return (data[column] - data[column].min()) / (data[column].max() - data[column].min())\n",
    "\n",
    "soil_ph_clipped[\"normalized\"] = normalize(soil_ph_clipped, \"value\")  \n",
    "elevation_clipped[\"normalized\"] = normalize(elevation_clipped, \"value\")\n",
    "climate_clipped[\"normalized\"] = normalize(climate_clipped, \"value\")"
   ]
  },
  {
   "cell_type": "code",
   "execution_count": null,
   "metadata": {
    "vscode": {
     "languageId": "plaintext"
    }
   },
   "outputs": [],
   "source": [
    "# 5: Harmonize by combining the normalized values\n",
    "\n",
    "grassland_boundary[\"harmonized_value\"] = (\n",
    "    var1_clipped[\"normalized\"].mean() +\n",
    "    var2_clipped[\"normalized\"].mean() +\n",
    "    var3_clipped[\"normalized\"].mean()\n",
    ") / 3"
   ]
  },
  {
   "cell_type": "code",
   "execution_count": null,
   "metadata": {
    "vscode": {
     "languageId": "plaintext"
    }
   },
   "outputs": [],
   "source": [
    "# 6: Plot the results\n",
    "\n",
    "grassland_boundary.plot(column=\"harmonized_value\", legend=True, cmap=\"viridis\")\n",
    "plt.title(\"Harmonized Variables Over Project Area\")\n",
    "plt.show()"
   ]
  },
  {
   "cell_type": "code",
   "execution_count": null,
   "metadata": {
    "vscode": {
     "languageId": "plaintext"
    }
   },
   "outputs": [],
   "source": [
    "# 7: store variables and gdf\n",
    "\n",
    "%store"
   ]
  }
 ],
 "metadata": {
  "language_info": {
   "name": "python"
  }
 },
 "nbformat": 4,
 "nbformat_minor": 2
}
