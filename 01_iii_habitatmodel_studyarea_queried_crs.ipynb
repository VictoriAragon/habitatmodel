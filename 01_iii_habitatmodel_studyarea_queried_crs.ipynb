{
 "cells": [
  {
   "cell_type": "markdown",
   "metadata": {},
   "source": [
    "Within this notebook I created a script where I took the two AOI grasslands, and overlayed them on top of their states and counties. All three layers I queried and set the coordinate system UTM 13 "
   ]
  },
  {
   "cell_type": "code",
   "execution_count": 1,
   "metadata": {},
   "outputs": [
    {
     "name": "stdout",
     "output_type": "stream",
     "text": [
      "Unable to restore variable 'band_dict', ignoring (use %store -d to forget!)\n",
      "The error was: <class 'KeyError'>\n",
      "Unable to restore variable 'ndvi_da', ignoring (use %store -d to forget!)\n",
      "The error was: <class 'KeyError'>\n"
     ]
    }
   ],
   "source": [
    "%store -r"
   ]
  },
  {
   "cell_type": "code",
   "execution_count": 2,
   "metadata": {},
   "outputs": [],
   "source": [
    "#Import libraries\n",
    "import pandas as pd\n",
    "import geopandas as gpd\n",
    "import numpy as np\n",
    "import matplotlib.pyplot as plt\n",
    "import os\n",
    "import requests\n",
    "import zipfile"
   ]
  },
  {
   "cell_type": "code",
   "execution_count": 3,
   "metadata": {},
   "outputs": [
    {
     "name": "stdout",
     "output_type": "stream",
     "text": [
      "      NATIONALGR                 GRASSLANDN   GIS_ACRES  SHAPE_AREA  \\\n",
      "2   295508010328   Kiowa National Grassland  144281.321    0.058543   \n",
      "17  295523010328  Pawnee National Grassland  208424.885    0.089972   \n",
      "\n",
      "    SHAPE_LEN                                           geometry  \n",
      "2    9.858642  MULTIPOLYGON (((-104.30414 36.08063, -104.3041...  \n",
      "17  15.341594  MULTIPOLYGON (((-104.58106 40.82664, -104.5810...  \n"
     ]
    },
    {
     "name": "stderr",
     "output_type": "stream",
     "text": [
      "c:\\Users\\arago\\miniconda3\\Lib\\site-packages\\pyogrio\\core.py:35: RuntimeWarning: Could not detect GDAL data files.  Set GDAL_DATA environment variable to the correct path.\n",
      "  _init_gdal_data()\n"
     ]
    }
   ],
   "source": [
    "#applied a query on my usfs.gdf, counties gdf and states gdf\n",
    "\n",
    "#loading my usfs_gdf\n",
    "usfs_gdf = gpd.read_file(usfs_shp_path)\n",
    "\n",
    "#query on my two grasslands field (GRASSLANDN) and grassland names (Kiowa National Grassland, Pawnee National Grassland )\n",
    "usfs_queried_gdf = usfs_gdf[usfs_gdf[\"GRASSLANDN\"].isin([\"Kiowa National Grassland\",\"Pawnee National Grassland\"])]\n",
    "                             \n",
    "print(usfs_queried_gdf)"
   ]
  },
  {
   "cell_type": "code",
   "execution_count": 4,
   "metadata": {},
   "outputs": [
    {
     "name": "stdout",
     "output_type": "stream",
     "text": [
      "     STATEFP COUNTYFP  COUNTYNS        AFFGEOID  GEOID     NAME LSAD  \\\n",
      "1681      35      007  00929117  0500000US35007  35007   Colfax   06   \n",
      "2387      35      021  00933055  0500000US35021  35021  Harding   06   \n",
      "2818      08      123  00198177  0500000US08123  08123     Weld   06   \n",
      "\n",
      "            ALAND    AWATER                                           geometry  \n",
      "1681   9733110158  26299632  POLYGON ((-105.34976 36.56142, -105.35792 36.5...  \n",
      "2387   5504963126   1162620  POLYGON ((-104.43046 36.2136, -104.43606 36.21...  \n",
      "2818  10323763901  79558364  MULTIPOLYGON (((-104.97989 40.03305, -104.9780...  \n"
     ]
    }
   ],
   "source": [
    "#applied a query on my counties gdf \n",
    "\n",
    "#loading my counties_gdf\n",
    "counties_gdf = gpd.read_file(counties_shp_path)\n",
    "\n",
    "#query on my two grasslands field (GRASSLANDN) and grassland names (Kiowa National Grassland, Pawnee National Grassland )\n",
    "counties_queried_gdf = counties_gdf[\n",
    "    (counties_gdf[\"NAME\"].isin([\"Colfax\",\"More\", \"Harding\", \"Weld\"]) & \n",
    "     (counties_gdf)[\"STATEFP\"].isin([\"08\",\"35\"]))\n",
    "]\n",
    "                             \n",
    "print(counties_queried_gdf)"
   ]
  },
  {
   "cell_type": "code",
   "execution_count": 5,
   "metadata": {},
   "outputs": [
    {
     "name": "stdout",
     "output_type": "stream",
     "text": [
      "   STATEFP   STATENS     AFFGEOID GEOID STUSPS        NAME LSAD         ALAND  \\\n",
      "2       35  00897535  0400000US35    35     NM  New Mexico   00  314196306401   \n",
      "31      08  01779779  0400000US08    08     CO    Colorado   00  268422891711   \n",
      "\n",
      "        AWATER                                           geometry  \n",
      "2    728776523  POLYGON ((-109.05017 31.48, -109.04984 31.4995...  \n",
      "31  1181621593  POLYGON ((-109.06025 38.59933, -109.05954 38.7...  \n"
     ]
    }
   ],
   "source": [
    "#applied a query on my  states gdf\n",
    "\n",
    "#loading my states_gdf\n",
    "states_gdf = gpd.read_file(states_shp_path)\n",
    "\n",
    "#query on my two grasslands field (GRASSLANDN) and grassland names (Kiowa National Grassland, Pawnee National Grassland )\n",
    "states_queried_gdf = states_gdf[states_gdf[\"STATEFP\"].isin([\"08\",\"35\"])]\n",
    "                             \n",
    "print(states_queried_gdf)"
   ]
  },
  {
   "cell_type": "code",
   "execution_count": 6,
   "metadata": {},
   "outputs": [
    {
     "name": "stdout",
     "output_type": "stream",
     "text": [
      "      NATIONALGR                 GRASSLANDN   GIS_ACRES  SHAPE_AREA  \\\n",
      "2   295508010328   Kiowa National Grassland  144281.321    0.058543   \n",
      "17  295523010328  Pawnee National Grassland  208424.885    0.089972   \n",
      "\n",
      "    SHAPE_LEN                                           geometry  \n",
      "2    9.858642  MULTIPOLYGON (((-104.30414 36.08063, -104.3041...  \n",
      "17  15.341594  MULTIPOLYGON (((-104.58106 40.82664, -104.5810...      STATEFP   STATENS     AFFGEOID GEOID STUSPS        NAME LSAD         ALAND  \\\n",
      "2       35  00897535  0400000US35    35     NM  New Mexico   00  314196306401   \n",
      "31      08  01779779  0400000US08    08     CO    Colorado   00  268422891711   \n",
      "\n",
      "        AWATER                                           geometry  \n",
      "2    728776523  POLYGON ((-109.05017 31.48, -109.04984 31.4995...  \n",
      "31  1181621593  POLYGON ((-109.06025 38.59933, -109.05954 38.7...        STATEFP COUNTYFP  COUNTYNS        AFFGEOID  GEOID     NAME LSAD  \\\n",
      "1681      35      007  00929117  0500000US35007  35007   Colfax   06   \n",
      "2387      35      021  00933055  0500000US35021  35021  Harding   06   \n",
      "2818      08      123  00198177  0500000US08123  08123     Weld   06   \n",
      "\n",
      "            ALAND    AWATER                                           geometry  \n",
      "1681   9733110158  26299632  POLYGON ((-105.34976 36.56142, -105.35792 36.5...  \n",
      "2387   5504963126   1162620  POLYGON ((-104.43046 36.2136, -104.43606 36.21...  \n",
      "2818  10323763901  79558364  MULTIPOLYGON (((-104.97989 40.03305, -104.9780...  \n"
     ]
    }
   ],
   "source": [
    "#printing all three gdf (states_queried_gdf, counties_queried_gdf, usfs_queried_gdf) tables to view\n",
    "\n",
    "print(usfs_queried_gdf, states_queried_gdf, counties_queried_gdf)"
   ]
  },
  {
   "cell_type": "markdown",
   "metadata": {},
   "source": [
    "Setting layers into the same coordinate system based on location: UTM Zone 13N\n",
    "\n",
    "Kiowa National Grassland = eastern NM\n",
    "Pawnee National Grassland = eastern CO\n",
    "\n",
    "Eastern New Mexico: UTM Zone 13N\n",
    "Eastern Colorado: UTM Zone 13N\n",
    "\n",
    "UTM Zone 13N = \"EPSG:32613\""
   ]
  },
  {
   "cell_type": "code",
   "execution_count": 7,
   "metadata": {},
   "outputs": [],
   "source": [
    "# setting all three gdf to the same CRS\n",
    "\n",
    "usfs_st_cnt_crs = \"EPSG:32612\"  \n",
    "states_queried_gdf = states_queried_gdf.to_crs(usfs_st_cnt_crs)\n",
    "counties_queried_gdf = counties_queried_gdf.to_crs(usfs_st_cnt_crs)\n",
    "usfs_queried_gdf = usfs_queried_gdf.to_crs(usfs_st_cnt_crs)\n",
    "\n"
   ]
  },
  {
   "cell_type": "markdown",
   "metadata": {},
   "source": [
    "Plotting all three layers overlayed each other"
   ]
  },
  {
   "cell_type": "code",
   "execution_count": 8,
   "metadata": {},
   "outputs": [
    {
     "name": "stderr",
     "output_type": "stream",
     "text": [
      "C:\\Users\\arago\\AppData\\Local\\Temp\\ipykernel_26268\\552874373.py:14: UserWarning: Legend does not support handles for PatchCollection instances.\n",
      "See: https://matplotlib.org/stable/tutorials/intermediate/legend_guide.html#implementing-a-custom-legend-handler\n",
      "  plt.legend()\n",
      "C:\\Users\\arago\\AppData\\Local\\Temp\\ipykernel_26268\\552874373.py:14: UserWarning: No artists with labels found to put in legend.  Note that artists whose label start with an underscore are ignored when legend() is called with no argument.\n",
      "  plt.legend()\n"
     ]
    },
    {
     "data": {
      "image/png": "[encoded data removed]",
      "text/plain": [
       "<Figure size 1200x800 with 1 Axes>"
      ]
     },
     "metadata": {},
     "output_type": "display_data"
    }
   ],
   "source": [
    "#plotting all three gdf (states_queried_gdf, counties_queried_gdf, usfs_queried_gdf) view\n",
    "fig, ax = plt.subplots(figsize=(12, 8))\n",
    "\n",
    "# Plot states (base layer)\n",
    "states_queried_gdf.plot(ax=ax, color=\"lightgray\", edgecolor=\"black\", linewidth=0.5, label=\"States\")\n",
    "\n",
    "# Plot counties (second layer)\n",
    "counties_queried_gdf.plot(ax=ax, color=\"none\", edgecolor=\"blue\", linewidth=0.5, label=\"Counties\")\n",
    "\n",
    "# Plot grassland layer (top layer)\n",
    "usfs_queried_gdf.plot(ax=ax, color=\"GREEN\", marker=\"o\", label=\"Overlay Layer\", alpha=0.7)\n",
    "\n",
    "# legend and title\n",
    "plt.legend()\n",
    "plt.title(\"Map with NM and CO States, queried Counties, and Grassland Layer\")\n",
    "plt.show()"
   ]
  },
  {
   "cell_type": "markdown",
   "metadata": {},
   "source": [
    "Queried the usfs data of my grasslands into two study site variables\n",
    "\n",
    "study_site1 = Kiowa National Grassland in New Mexico\n",
    "\n",
    "study_site2 = Pawnee National Grassland in Colorado"
   ]
  },
  {
   "cell_type": "code",
   "execution_count": 9,
   "metadata": {},
   "outputs": [
    {
     "name": "stdout",
     "output_type": "stream",
     "text": [
      "     NATIONALGR                GRASSLANDN   GIS_ACRES  SHAPE_AREA  SHAPE_LEN  \\\n",
      "2  295508010328  Kiowa National Grassland  144281.321    0.058543   9.858642   \n",
      "\n",
      "                                            geometry  \n",
      "2  MULTIPOLYGON (((-104.30414 36.08063, -104.3041...  \n"
     ]
    }
   ],
   "source": [
    "#applied a query on my usfs.gdf into two study site variables\n",
    "\n",
    "#loading my usfs_gdf\n",
    "usfs_gdf = gpd.read_file(usfs_shp_path)\n",
    "\n",
    "#query on my two grasslands field (GRASSLANDN) and grassland names (Kiowa National Grassland, Pawnee National Grassland )\n",
    "study_site1_gdf = usfs_gdf[usfs_gdf[\"GRASSLANDN\"].isin([\"Kiowa National Grassland\"])]\n",
    "                             \n",
    "print(study_site1_gdf)"
   ]
  },
  {
   "cell_type": "code",
   "execution_count": 10,
   "metadata": {},
   "outputs": [
    {
     "name": "stdout",
     "output_type": "stream",
     "text": [
      "     NATIONALGR                GRASSLANDN   GIS_ACRES  SHAPE_AREA  SHAPE_LEN  \\\n",
      "2  295508010328  Kiowa National Grassland  144281.321    0.058543   9.858642   \n",
      "\n",
      "                                            geometry  \n",
      "2  MULTIPOLYGON (((-104.30414 36.08063, -104.3041...  \n"
     ]
    }
   ],
   "source": [
    "#applied a query on my usfs.gdf into two study site variables\n",
    "#loading my usfs_gdf\n",
    "usfs_gdf = gpd.read_file(usfs_shp_path)\n",
    "\n",
    "#query on my two grasslands field (GRASSLANDN) and grassland names (Kiowa National Grassland, Pawnee National Grassland )\n",
    "study_site2_gdf = usfs_gdf[usfs_gdf[\"GRASSLANDN\"].isin([\"Pawnee National Grassland\"])]\n",
    "                             \n",
    "print(study_site1_gdf)"
   ]
  },
  {
   "cell_type": "code",
   "execution_count": 11,
   "metadata": {},
   "outputs": [
    {
     "name": "stdout",
     "output_type": "stream",
     "text": [
      "Stored 'usfs_df' (DataFrame)\n",
      "Stored 'usfs_gdf' (GeoDataFrame)\n",
      "Stored 'studyarea_data' (str)\n",
      "Stored 'counties_gdf' (GeoDataFrame)\n",
      "Stored 'states_gdf' (GeoDataFrame)\n",
      "Stored 'states_df' (DataFrame)\n",
      "Stored 'counties_df' (DataFrame)\n",
      "Stored 'usfs_shp_path' (str)\n",
      "Stored 'counties_shp_path' (str)\n",
      "Stored 'states_shp_path' (str)\n",
      "Stored 'states_queried_gdf' (GeoDataFrame)\n",
      "Stored 'counties_queried_gdf' (GeoDataFrame)\n",
      "Stored 'usfs_queried_gdf' (GeoDataFrame)\n",
      "Stored 'study_site1_gdf' (GeoDataFrame)\n",
      "Stored 'study_site2_gdf' (GeoDataFrame)\n"
     ]
    }
   ],
   "source": [
    "%store usfs_df usfs_gdf studyarea_data counties_gdf states_gdf states_df counties_df usfs_shp_path counties_shp_path states_shp_path states_queried_gdf counties_queried_gdf usfs_queried_gdf study_site1_gdf study_site2_gdf"
   ]
  }
 ],
 "metadata": {
  "kernelspec": {
   "display_name": "base",
   "language": "python",
   "name": "python3"
  },
  "language_info": {
   "codemirror_mode": {
    "name": "ipython",
    "version": 3
   },
   "file_extension": ".py",
   "mimetype": "text/x-python",
   "name": "python",
   "nbconvert_exporter": "python",
   "pygments_lexer": "ipython3",
   "version": "3.12.8"
  }
 },
 "nbformat": 4,
 "nbformat_minor": 2
}
