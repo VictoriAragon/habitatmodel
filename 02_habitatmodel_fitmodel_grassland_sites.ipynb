{
 "cells": [
  {
   "cell_type": "markdown",
   "metadata": {},
   "source": [
    "Within this notebook I detail the model, sites and variables and CRS that I use for each Sorghastrum nutans grassland study site.\n",
    "\n",
    "UTM Zone 13N = \"EPSG:32613\"\n",
    "\n",
    "study_site1 = Kiowa National Grassland in New Mexico\n",
    "\n",
    "study_site2 = Pawnee National Grassland in Colorado\n",
    "\n",
    "raster layers variables\n",
    "    variable 1 = soil\n",
    "    variable 2= elevation\n",
    "    variable 3= climate\n",
    "    variable 4 =  slope"
   ]
  },
  {
   "cell_type": "code",
   "execution_count": null,
   "metadata": {},
   "outputs": [],
   "source": []
  },
  {
   "cell_type": "code",
   "execution_count": 1,
   "metadata": {},
   "outputs": [],
   "source": [
    "#store the data\n",
    "%store -r"
   ]
  },
  {
   "cell_type": "code",
   "execution_count": null,
   "metadata": {},
   "outputs": [],
   "source": [
    "#Import libraries\n",
    "import pandas as pd\n",
    "import geopandas as gpd\n",
    "import numpy as np\n",
    "import matplotlib.pyplot as plt\n",
    "import os\n",
    "import requests\n",
    "import zipfile"
   ]
  },
  {
   "cell_type": "code",
   "execution_count": 2,
   "metadata": {},
   "outputs": [
    {
     "name": "stdout",
     "output_type": "stream",
     "text": [
      "Stored 'usfs_df' (DataFrame)\n",
      "Stored 'usfs_gdf' (GeoDataFrame)\n",
      "Stored 'studyarea_data' (str)\n",
      "Stored 'counties_gdf' (GeoDataFrame)\n",
      "Stored 'states_gdf' (GeoDataFrame)\n",
      "Stored 'states_df' (DataFrame)\n",
      "Stored 'counties_df' (DataFrame)\n",
      "Stored 'usfs_shp_path' (str)\n",
      "Stored 'counties_shp_path' (str)\n",
      "Stored 'states_shp_path' (str)\n",
      "Stored 'states_queried_gdf' (GeoDataFrame)\n",
      "Stored 'counties_queried_gdf' (GeoDataFrame)\n",
      "Stored 'usfs_queried_gdf' (GeoDataFrame)\n",
      "Stored 'study_site1_gdf' (GeoDataFrame)\n",
      "Stored 'study_site2_gdf' (GeoDataFrame)\n"
     ]
    }
   ],
   "source": [
    "%store usfs_df usfs_gdf studyarea_data counties_gdf states_gdf states_df counties_df usfs_shp_path counties_shp_path states_shp_path states_queried_gdf counties_queried_gdf usfs_queried_gdf study_site1_gdf study_site2_gdf"
   ]
  }
 ],
 "metadata": {
  "kernelspec": {
   "display_name": "earth-analytics-python",
   "language": "python",
   "name": "python3"
  },
  "language_info": {
   "codemirror_mode": {
    "name": "ipython",
    "version": 3
   },
   "file_extension": ".py",
   "mimetype": "text/x-python",
   "name": "python",
   "nbconvert_exporter": "python",
   "pygments_lexer": "ipython3",
   "version": "3.11.10"
  }
 },
 "nbformat": 4,
 "nbformat_minor": 2
}
