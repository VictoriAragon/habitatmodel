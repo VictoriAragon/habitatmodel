{
 "cells": [
  {
   "cell_type": "markdown",
   "metadata": {},
   "source": [
    "This notebook will build the model to analyze the variables (soil ph, elevation and cliamte) The mode used is the fuzzy logic model. \n",
    "\n",
    "The standard workflow for fuzzy logic is as follows:\n",
    "\n",
    "    Define the problem and site selection criteria\n",
    "    Collect criteria layers\n",
    "    Assign fuzzy membership values\n",
    "    Perform fuzzy overlay\n",
    "    Verify and apply results\n",
    "    \n",
    "\n",
    "This notebook is incomplete and the code is non-working"
   ]
  },
  {
   "cell_type": "markdown",
   "metadata": {},
   "source": [
    " 1: bring in stored variables\n",
    "\n",
    " 2: Define the criteria\n",
    "\n",
    " 3: Define the rules\n",
    "\n",
    " 4: Create a fuzzy control system\n",
    "\n",
    " 5: Input values and compute fuzzy inference\n",
    "\n",
    " 6: Compute risk\n",
    "\n",
    " 7: Plot to view the results"
   ]
  },
  {
   "cell_type": "code",
   "execution_count": null,
   "metadata": {
    "vscode": {
     "languageId": "plaintext"
    }
   },
   "outputs": [],
   "source": [
    "# 1: bring in stored variables\n",
    "\n",
    "#store the data\n",
    "%store -r"
   ]
  },
  {
   "cell_type": "code",
   "execution_count": null,
   "metadata": {
    "vscode": {
     "languageId": "plaintext"
    }
   },
   "outputs": [],
   "source": [
    "# 2: Define the criteria\n",
    "\n",
    "slope['low percent'] = fuzz.trapmf(temperature.universe, [0, 0, 15, 20])\n",
    "slope['medium percent'] = fuzz.trimf(temperature.universe, [15, 20, 25])\n",
    "slope['high percent'] = fuzz.trapmf(temperature.universe, [20, 25, 40, 90])\n",
    "\n",
    "precipitation['low in mm'] = fuzz.trapmf(humidity.universe, [0.0,1 ])\n",
    "precipitation['medium in mm'] = fuzz.trimf(humidity.universe, [1, 5])\n",
    "precipitation['high in mm'] = fuzz.trapmf(humidity.universe, [5, 10])\n",
    "\n",
    "soil ph['Extremely acid'] = fuzz.trapmf(soil ph.universe, [2, 3, 4, 4.5])\n",
    "soil ph['Moderately acid'] = fuzz.trimf(soil ph.universe, [5.6, 5.8, 6.0])\n",
    "soil ph['Slightly acid'] = fuzz.trapmf(soil ph.universe, [6.2, 6.3, 6.4, 6.5])\n",
    "soil ph['Neautral'] = fuzz.trapmf(soil ph.universe, [6.6, 7.0, 7.2, 7.3])\n",
    "soil ph['Very strongly alkaline'] = fuzz.trapmf(soil ph.universe, [9.1, 9.2, 9.3, 9.4])\n",
    "\n",
    "\n"
   ]
  },
  {
   "cell_type": "code",
   "execution_count": null,
   "metadata": {
    "vscode": {
     "languageId": "plaintext"
    }
   },
   "outputs": [],
   "source": [
    "# 3: Define the rules\n",
    "\n",
    "rule1 = ctrl.Rule()\n",
    "rule2 = ctrl.Rule()\n",
    "rule3 = ctrl.Rule()\n",
    "rule4 = ctrl.Rule()\n",
    "rule5 = ctrl.Rule()"
   ]
  },
  {
   "cell_type": "code",
   "execution_count": null,
   "metadata": {
    "vscode": {
     "languageId": "plaintext"
    }
   },
   "outputs": [],
   "source": [
    "# 4: Create a fuzzy control system\n",
    "\n",
    "risk_ctrl = ctrl.ControlSystem([rule1, rule2, rule3, rule4, rule5])\n",
    "risk_assessment = ctrl.ControlSystemSimulation(risk_ctrl)"
   ]
  },
  {
   "cell_type": "code",
   "execution_count": null,
   "metadata": {
    "vscode": {
     "languageId": "plaintext"
    }
   },
   "outputs": [],
   "source": [
    "# 5: Input values and compute fuzzy inference\n",
    "\n",
    "risk_assessment.input[''] = x \n",
    "risk_assessment.input[''] = x     \n",
    "risk_assessment.input[''] = x  "
   ]
  },
  {
   "cell_type": "code",
   "execution_count": null,
   "metadata": {
    "vscode": {
     "languageId": "plaintext"
    }
   },
   "outputs": [],
   "source": [
    "# 6: Compute risk\n",
    "\n",
    "\n",
    "\n",
    "risk_assessment.compute()"
   ]
  },
  {
   "cell_type": "code",
   "execution_count": null,
   "metadata": {
    "vscode": {
     "languageId": "plaintext"
    }
   },
   "outputs": [],
   "source": [
    "# 7: Plot to view the results\n",
    "\n",
    "slope.view()\n",
    "precipitation.view()\n",
    "soil ph.view()\n",
    "risk.view()\n",
    "\n",
    "plt.show()"
   ]
  }
 ],
 "metadata": {
  "language_info": {
   "name": "python"
  }
 },
 "nbformat": 4,
 "nbformat_minor": 2
}
