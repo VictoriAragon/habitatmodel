{
 "cells": [
  {
   "cell_type": "markdown",
   "metadata": {},
   "source": [
    "This notebook is to calcualte the topographic values within each cell the two study sites/grasslands as the area of interest. This process I will calcualte the slope of the study areas from the elevation data. \n",
    "\n",
    "The notebook is non-functioning, however, the steps are listed below"
   ]
  },
  {
   "cell_type": "markdown",
   "metadata": {},
   "source": [
    "Step 1: bring in stored variables\n",
    "\n",
    "Step 2: Import all python libraries needed\n",
    "\n",
    "Step 3: Overlay elevation and plot the grasslands boundaries to the elevation data to view\n",
    "\n",
    "Step 4: Convert the vector data to raster and project and plot\n",
    "\n",
    "Step 5: Calculate the slope from the elevation data\n",
    "\n",
    "Step 6: store variables and gdf"
   ]
  },
  {
   "cell_type": "code",
   "execution_count": null,
   "metadata": {
    "vscode": {
     "languageId": "plaintext"
    }
   },
   "outputs": [],
   "source": [
    "#Step 1: bring in stored variables\n",
    "\n",
    "#store the data\n",
    "%store -r"
   ]
  },
  {
   "cell_type": "code",
   "execution_count": null,
   "metadata": {
    "vscode": {
     "languageId": "plaintext"
    }
   },
   "outputs": [],
   "source": [
    "#Step 2: Import all python libraries needed\n",
    "\n",
    "\n",
    "import pandas as pd\n",
    "import geopandas as gpd\n",
    "import numpy as np\n",
    "import matplotlib.pyplot as plt\n",
    "import os\n",
    "import requests\n",
    "import zipfile\n",
    "import rasterio\n",
    "from rasterio.plot import show\n",
    "import rioxarray\n",
    "import xarray-spatial"
   ]
  },
  {
   "cell_type": "code",
   "execution_count": null,
   "metadata": {
    "vscode": {
     "languageId": "plaintext"
    }
   },
   "outputs": [],
   "source": [
    "#Step 3: Overlay elevation and plot the grasslands boundaries to the elevation data to view\n",
    "\n",
    "elevation_data.plot()\n",
    "grasslands_gdf.plot()"
   ]
  },
  {
   "cell_type": "code",
   "execution_count": null,
   "metadata": {
    "vscode": {
     "languageId": "plaintext"
    }
   },
   "outputs": [],
   "source": [
    "#Step 4: Convert the vector data to raster and project and plot\n",
    "\n",
    "elevation_data = regionmask.mask_geopandas(\n",
    "    grasslands_gdf.to_crs(elevation_data.rio.crs),\n",
    "    elevation_data.x, elevation_data.y,\n",
    "    # The regions do not overlap\n",
    "    overlap=False,\n",
    "    # We're not using geographic coordinates\n",
    "    wrap_lon=False\n",
    "    #grasslands_gdf = (\n",
    "    #gpd.GeoDataFrame(\n",
    "     #   grasslands_df, \n",
    "      #  geometry=gpd.points_from_xy(\n",
    "       #     grasslands_df.decimalLongitude, \n",
    "        #    grasslands_df.decimalLatitude), \n",
    "        #crs=\"ccrs.Mercator\")\n",
    ")\n",
    "elevetation_grassland_mask.plot()"
   ]
  },
  {
   "cell_type": "code",
   "execution_count": null,
   "metadata": {
    "vscode": {
     "languageId": "plaintext"
    }
   },
   "outputs": [],
   "source": [
    "#Step 5: Calculate the slope from the elevation data\n",
    "\n",
    "#code below taking from chatgpt\n",
    "\n",
    "# Load elevation data (DEM)\n",
    "elevation_path = \"path/to/elevation.tif\"  \n",
    "\n",
    "\n",
    "# Calculate pixel size from affine transform\n",
    "x_res = transform.a  # Pixel width\n",
    "y_res = -transform.e  # Pixel height (negative because Y decreases in a typical image)\n",
    "\n",
    "# Calculate slope using central differences\n",
    "gradient_x, gradient_y = np.gradient(dem, x_res, y_res)  # Calculate gradients (dz/dx, dz/dy)\n",
    "slope = np.sqrt(gradient_x**2 + gradient_y**2)  # Pythagorean theorem\n",
    "\n",
    "# Convert slope to degrees\n",
    "slope_degrees = np.arctan(slope) * (180 / np.pi)\n",
    "\n",
    "# Plot the slope\n",
    "plt.figure(figsize=(10, 8))\n",
    "plt.title(\"Slope (Degrees)\")\n",
    "plt.imshow(slope_degrees, cmap=\"terrain\", extent=(src.bounds.left, src.bounds.right, src.bounds.bottom, src.bounds.top))\n",
    "plt.colorbar(label=\"Slope (Degrees)\")\n",
    "plt.xlabel(\"Longitude\")\n",
    "plt.ylabel(\"Latitude\")\n",
    "plt.show()"
   ]
  },
  {
   "cell_type": "code",
   "execution_count": null,
   "metadata": {
    "vscode": {
     "languageId": "plaintext"
    }
   },
   "outputs": [],
   "source": [
    "\n",
    "Step 6: store variables and gdf\n",
    "\n",
    "\n",
    "%store"
   ]
  }
 ],
 "metadata": {
  "language_info": {
   "name": "python"
  }
 },
 "nbformat": 4,
 "nbformat_minor": 2
}
