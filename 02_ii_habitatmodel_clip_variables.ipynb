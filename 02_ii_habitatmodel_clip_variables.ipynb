{
 "cells": [
  {
   "cell_type": "markdown",
   "metadata": {},
   "source": [
    "This notebook is to clip the two study sites/grasslands as the area of interest. After clipping those two sites, I would overlay the three variables (Soil pH, elevation and climate) data on top of the study sites and clip the those variables to the study sites boundaries. \n",
    "\n",
    "The notebook is non-functioning, however, the steps are listed below"
   ]
  },
  {
   "cell_type": "markdown",
   "metadata": {},
   "source": [
    " 1: bring in stored variables\n",
    "\n",
    " 2: Import all python libraries needed\n",
    "\n",
    " 3: Create a directory for the clipped data\n",
    "\n",
    " 4: Overlay all variables data on top of study areas using a loop and plotting\n",
    "\n",
    " 5: Clip overlayed data\n",
    "\n",
    " 6: store variables and gdf"
   ]
  },
  {
   "cell_type": "code",
   "execution_count": null,
   "metadata": {
    "vscode": {
     "languageId": "plaintext"
    }
   },
   "outputs": [],
   "source": [
    "# 1: bring in stored variables\n",
    "\n",
    "#store the data\n",
    "%store -r"
   ]
  },
  {
   "cell_type": "code",
   "execution_count": null,
   "metadata": {
    "vscode": {
     "languageId": "plaintext"
    }
   },
   "outputs": [],
   "source": [
    "# 2: Import all python libraries needed\n",
    "\n",
    "\n",
    "import pandas as pd\n",
    "import geopandas as gpd\n",
    "import numpy as np\n",
    "import matplotlib.pyplot as plt\n",
    "import os\n",
    "import requests\n",
    "import zipfile\n",
    "import rasterio\n",
    "from rasterio.plot import show\n",
    "import rioxarray"
   ]
  },
  {
   "cell_type": "code",
   "execution_count": null,
   "metadata": {
    "vscode": {
     "languageId": "plaintext"
    }
   },
   "outputs": [],
   "source": [
    "# 3: Create a directory for the clipped data\n",
    "os.makedirs(, exist_ok=True)\n",
    "\n",
    "#Make grasslands clipped directory\n",
    "os.makedirs(\"grasslands clipped directory here\", exist_ok=True)\n",
    "\n",
    "#make clipped soils ph data direcory\n",
    "os.makedirs(\"soils ph data clipped directory here\", exist_ok=True)\n",
    "\n",
    "#make clipped elevation data directory here\n",
    "os.makedirs(\"elevation data clipped directory here\", exist_ok=True)\n",
    "\n",
    "#make clipped climate data directory here\n",
    "os.makedirs(\"climate data clipped directory here\", exist_ok=True)\n",
    "\n"
   ]
  },
  {
   "cell_type": "code",
   "execution_count": null,
   "metadata": {
    "vscode": {
     "languageId": "plaintext"
    }
   },
   "outputs": [],
   "source": [
    "# 4: Overlay all variables data on top of study areas using a loop and plotting\n",
    "\n",
    "\n",
    "#variables and grassland to overlay on top of each other\n",
    "Kiowa grasslands and variables  = [\n",
    "    {\"gdf\": Kiowa_gdf, \"color\": \"lightgray\", \"edgecolor\": \"black\", \"linewidth\": 0.5, \"label\": \"States\"},\n",
    "    {\"gdf\": soil_ph_gdf, \"color\": \"none\", \"edgecolor\": \"blue\", \"linewidth\": 0.5, \"label\": \"Counties\"},\n",
    "    {\"gdf\": elevation_gdf, \"color\": \"GREEN\", \"marker\": \"o\", \"label\": \"Overlay Layer\", \"alpha\": 0.7},\n",
    "    {\"gdf\": climate_gdf, \"color\": \"GREEN\", \"marker\": \"o\", \"label\": \"Overlay Layer\", \"alpha\": 0.7}\n",
    "]\n",
    "\n",
    "# Create figure and axes\n",
    "fig, ax = plt.subplots(figsize=(12, 8))\n",
    "\n",
    "# Loop through the grassland and variables\n",
    "for layer in layers:\n",
    "    layer[\"gdf\"].plot(\n",
    "        ax=ax,\n",
    "        color=layer.get(\"color\"),\n",
    "        edgecolor=layer.get(\"edgecolor\"),\n",
    "        linewidth=layer.get(\"linewidth\"),\n",
    "        marker=layer.get(\"marker\"),\n",
    "        label=layer.get(\"label\"),\n",
    "        alpha=layer.get(\"alpha\", 1),  # Default alpha to 1 if not specified\n",
    "    )\n",
    "\n",
    "# Add legend and title\n",
    "plt.legend()\n",
    "plt.title(\"title here\")\n",
    "plt.show()\n",
    "\n"
   ]
  },
  {
   "cell_type": "code",
   "execution_count": null,
   "metadata": {
    "vscode": {
     "languageId": "plaintext"
    }
   },
   "outputs": [],
   "source": [
    "# 4: Overlay all variables data on top of study areas using a loop and plotting\n",
    "\n",
    "#variables and grassland to overlay on top of each other\n",
    "pawnee grasslands and variables  = [\n",
    "    {\"gdf\": pawnee_gdf, \"color\": \"lightgray\", \"edgecolor\": \"black\", \"linewidth\": 0.5, \"label\": \"States\"},\n",
    "    {\"gdf\": soil_ph_gdf, \"color\": \"none\", \"edgecolor\": \"blue\", \"linewidth\": 0.5, \"label\": \"Counties\"},\n",
    "    {\"gdf\": elevation_gdf, \"color\": \"GREEN\", \"marker\": \"o\", \"label\": \"Overlay Layer\", \"alpha\": 0.7},\n",
    "    {\"gdf\": climate_gdf, \"color\": \"GREEN\", \"marker\": \"o\", \"label\": \"Overlay Layer\", \"alpha\": 0.7}\n",
    "]\n",
    "\n",
    "# Create figure and axes\n",
    "fig, ax = plt.subplots(figsize=(12, 8))\n",
    "\n",
    "# Loop through the grassland and variables\n",
    "for layer in layers:\n",
    "    layer[\"gdf\"].plot(\n",
    "        ax=ax,\n",
    "        color=layer.get(\"color\"),\n",
    "        edgecolor=layer.get(\"edgecolor\"),\n",
    "        linewidth=layer.get(\"linewidth\"),\n",
    "        marker=layer.get(\"marker\"),\n",
    "        label=layer.get(\"label\"),\n",
    "        alpha=layer.get(\"alpha\", 1),  # Default alpha to 1 if not specified\n",
    "    )\n",
    "\n",
    "# Add legend and title\n",
    "plt.legend()\n",
    "plt.title(\"title here\")\n",
    "plt.show()"
   ]
  },
  {
   "cell_type": "code",
   "execution_count": null,
   "metadata": {
    "vscode": {
     "languageId": "plaintext"
    }
   },
   "outputs": [],
   "source": [
    "# 5: Clip overlayed data using a loop\n",
    "\n",
    " #Load the GeoDataFrames\n",
    "file_paths = {\n",
    "    \"Kiowa_gdf\": \"path/to/kiowa.shp\"\n",
    "    \"Pawnee_gdf\": \"path/to/Pawnee.shp\",\n",
    "    \"soil_ph_gdf\": \"path/to/soil_ph.shp\",\n",
    "    \"elevation_gdf\": \"path/to/elevation.shp\",\n",
    "    \"climate_gdf\": \"path/to/climate.shp\",\n",
    "}\n",
    "\n",
    "# Create an empty dictionary to store the loaded GeoDataFrames\n",
    "gdfs = {}\n",
    "\n",
    "# Loop through the file paths and load each GeoDataFrame\n",
    "for key, path in file_paths.items():\n",
    "    gdfs[key] = gpd.read_file(path)\n",
    "\n",
    "# Access the GeoDataFrames by their names\n",
    "pawnee_gdf = gdfs[\"pawnee_gdf\"]\n",
    "kiowa_gdf = gdfs[\"kiowa_gdf\"]\n",
    "soil_ph_gdf = gdfs[\"soil_ph_gdf\"]\n",
    "elevation_gdf = gdfs[\"elevation_gdf\"]\n",
    "climate_gdf = gdfs[\"climate_gdf\"]\n",
    "\n",
    "# Print summaries to verify loading\n",
    "for name, gdf in gdfs.items():\n",
    "    print(f\"{name}: {len(gdf)} features loaded.\")\n",
    "\n",
    "#CLIP the data by looping through the file paths and gdf\n",
    "for key, path in file_paths.items():\n",
    "    # Load the current GeoDataFrame\n",
    "    gdf = gpd.read_file(path)\n",
    "    \n",
    "    # Ensure the CRS matches Kiowa_gdf\n",
    "    if gdf.crs != Kiowa_gdf.crs:\n",
    "        gdf = gdf.to_crs(Kiowa_gdf.crs)\n",
    "    \n",
    "    # Perform the clipping\n",
    "    clipped_gdfs[key] = gpd.clip(gdf, Kiowa_gdf)\n",
    "\n",
    "# Save or use the clipped GeoDataFrames\n",
    "for key, clipped_gdf in clipped_gdfs.items():\n",
    "    print(f\"{key}: {len(clipped_gdf)} features after clipping.\")\n",
    "    clipped_gdf.to_file(f\"clipped_{key}.shp\")  # Save the clipped GeoDataFrame"
   ]
  },
  {
   "cell_type": "code",
   "execution_count": null,
   "metadata": {
    "vscode": {
     "languageId": "plaintext"
    }
   },
   "outputs": [],
   "source": [
    "# 6: store variables and gdf\n",
    "\n",
    "%store"
   ]
  }
 ],
 "metadata": {
  "language_info": {
   "name": "python"
  }
 },
 "nbformat": 4,
 "nbformat_minor": 2
}
